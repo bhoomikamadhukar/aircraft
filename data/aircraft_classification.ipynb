{
  "nbformat": 4,
  "nbformat_minor": 0,
  "metadata": {
    "colab": {
      "name": "aircraft-classification.ipynb",
      "provenance": []
    },
    "kernelspec": {
      "name": "python3",
      "display_name": "Python 3"
    },
    "accelerator": "GPU",
    "widgets": {
      "application/vnd.jupyter.widget-state+json": {
        "6deb04a8276544469c02c4d6aba93a15": {
          "model_module": "@jupyter-widgets/controls",
          "model_name": "HBoxModel",
          "state": {
            "_view_name": "HBoxView",
            "_dom_classes": [],
            "_model_name": "HBoxModel",
            "_view_module": "@jupyter-widgets/controls",
            "_model_module_version": "1.5.0",
            "_view_count": null,
            "_view_module_version": "1.5.0",
            "box_style": "",
            "layout": "IPY_MODEL_b30cce327fac4e9ebacd2e32fa80b3a2",
            "_model_module": "@jupyter-widgets/controls",
            "children": [
              "IPY_MODEL_30edf17c82ea4d22ac52d6da8c07d67e",
              "IPY_MODEL_062945620e8240629bc3a6c499ac784c"
            ]
          }
        },
        "b30cce327fac4e9ebacd2e32fa80b3a2": {
          "model_module": "@jupyter-widgets/base",
          "model_name": "LayoutModel",
          "state": {
            "_view_name": "LayoutView",
            "grid_template_rows": null,
            "right": null,
            "justify_content": null,
            "_view_module": "@jupyter-widgets/base",
            "overflow": null,
            "_model_module_version": "1.2.0",
            "_view_count": null,
            "flex_flow": null,
            "width": null,
            "min_width": null,
            "border": null,
            "align_items": null,
            "bottom": null,
            "_model_module": "@jupyter-widgets/base",
            "top": null,
            "grid_column": null,
            "overflow_y": null,
            "overflow_x": null,
            "grid_auto_flow": null,
            "grid_area": null,
            "grid_template_columns": null,
            "flex": null,
            "_model_name": "LayoutModel",
            "justify_items": null,
            "grid_row": null,
            "max_height": null,
            "align_content": null,
            "visibility": null,
            "align_self": null,
            "height": null,
            "min_height": null,
            "padding": null,
            "grid_auto_rows": null,
            "grid_gap": null,
            "max_width": null,
            "order": null,
            "_view_module_version": "1.2.0",
            "grid_template_areas": null,
            "object_position": null,
            "object_fit": null,
            "grid_auto_columns": null,
            "margin": null,
            "display": null,
            "left": null
          }
        },
        "30edf17c82ea4d22ac52d6da8c07d67e": {
          "model_module": "@jupyter-widgets/controls",
          "model_name": "FloatProgressModel",
          "state": {
            "_view_name": "ProgressView",
            "style": "IPY_MODEL_a95e8078ecb84b1188a4c67208504c32",
            "_dom_classes": [],
            "description": "100%",
            "_model_name": "FloatProgressModel",
            "bar_style": "success",
            "max": 3334,
            "_view_module": "@jupyter-widgets/controls",
            "_model_module_version": "1.5.0",
            "value": 3334,
            "_view_count": null,
            "_view_module_version": "1.5.0",
            "orientation": "horizontal",
            "min": 0,
            "description_tooltip": null,
            "_model_module": "@jupyter-widgets/controls",
            "layout": "IPY_MODEL_0e6e9fd9504f48118bfe5d1449d6fa20"
          }
        },
        "062945620e8240629bc3a6c499ac784c": {
          "model_module": "@jupyter-widgets/controls",
          "model_name": "HTMLModel",
          "state": {
            "_view_name": "HTMLView",
            "style": "IPY_MODEL_9a0cede91a0847b5ba30479c8df31fb6",
            "_dom_classes": [],
            "description": "",
            "_model_name": "HTMLModel",
            "placeholder": "​",
            "_view_module": "@jupyter-widgets/controls",
            "_model_module_version": "1.5.0",
            "value": " 3334/3334 [19:22&lt;00:00,  2.87it/s]",
            "_view_count": null,
            "_view_module_version": "1.5.0",
            "description_tooltip": null,
            "_model_module": "@jupyter-widgets/controls",
            "layout": "IPY_MODEL_b6544ab879c04af4806b765ddc358d4b"
          }
        },
        "a95e8078ecb84b1188a4c67208504c32": {
          "model_module": "@jupyter-widgets/controls",
          "model_name": "ProgressStyleModel",
          "state": {
            "_view_name": "StyleView",
            "_model_name": "ProgressStyleModel",
            "description_width": "initial",
            "_view_module": "@jupyter-widgets/base",
            "_model_module_version": "1.5.0",
            "_view_count": null,
            "_view_module_version": "1.2.0",
            "bar_color": null,
            "_model_module": "@jupyter-widgets/controls"
          }
        },
        "0e6e9fd9504f48118bfe5d1449d6fa20": {
          "model_module": "@jupyter-widgets/base",
          "model_name": "LayoutModel",
          "state": {
            "_view_name": "LayoutView",
            "grid_template_rows": null,
            "right": null,
            "justify_content": null,
            "_view_module": "@jupyter-widgets/base",
            "overflow": null,
            "_model_module_version": "1.2.0",
            "_view_count": null,
            "flex_flow": null,
            "width": null,
            "min_width": null,
            "border": null,
            "align_items": null,
            "bottom": null,
            "_model_module": "@jupyter-widgets/base",
            "top": null,
            "grid_column": null,
            "overflow_y": null,
            "overflow_x": null,
            "grid_auto_flow": null,
            "grid_area": null,
            "grid_template_columns": null,
            "flex": null,
            "_model_name": "LayoutModel",
            "justify_items": null,
            "grid_row": null,
            "max_height": null,
            "align_content": null,
            "visibility": null,
            "align_self": null,
            "height": null,
            "min_height": null,
            "padding": null,
            "grid_auto_rows": null,
            "grid_gap": null,
            "max_width": null,
            "order": null,
            "_view_module_version": "1.2.0",
            "grid_template_areas": null,
            "object_position": null,
            "object_fit": null,
            "grid_auto_columns": null,
            "margin": null,
            "display": null,
            "left": null
          }
        },
        "9a0cede91a0847b5ba30479c8df31fb6": {
          "model_module": "@jupyter-widgets/controls",
          "model_name": "DescriptionStyleModel",
          "state": {
            "_view_name": "StyleView",
            "_model_name": "DescriptionStyleModel",
            "description_width": "",
            "_view_module": "@jupyter-widgets/base",
            "_model_module_version": "1.5.0",
            "_view_count": null,
            "_view_module_version": "1.2.0",
            "_model_module": "@jupyter-widgets/controls"
          }
        },
        "b6544ab879c04af4806b765ddc358d4b": {
          "model_module": "@jupyter-widgets/base",
          "model_name": "LayoutModel",
          "state": {
            "_view_name": "LayoutView",
            "grid_template_rows": null,
            "right": null,
            "justify_content": null,
            "_view_module": "@jupyter-widgets/base",
            "overflow": null,
            "_model_module_version": "1.2.0",
            "_view_count": null,
            "flex_flow": null,
            "width": null,
            "min_width": null,
            "border": null,
            "align_items": null,
            "bottom": null,
            "_model_module": "@jupyter-widgets/base",
            "top": null,
            "grid_column": null,
            "overflow_y": null,
            "overflow_x": null,
            "grid_auto_flow": null,
            "grid_area": null,
            "grid_template_columns": null,
            "flex": null,
            "_model_name": "LayoutModel",
            "justify_items": null,
            "grid_row": null,
            "max_height": null,
            "align_content": null,
            "visibility": null,
            "align_self": null,
            "height": null,
            "min_height": null,
            "padding": null,
            "grid_auto_rows": null,
            "grid_gap": null,
            "max_width": null,
            "order": null,
            "_view_module_version": "1.2.0",
            "grid_template_areas": null,
            "object_position": null,
            "object_fit": null,
            "grid_auto_columns": null,
            "margin": null,
            "display": null,
            "left": null
          }
        },
        "621e31da76e24922afec09a66c34c440": {
          "model_module": "@jupyter-widgets/controls",
          "model_name": "HBoxModel",
          "state": {
            "_view_name": "HBoxView",
            "_dom_classes": [],
            "_model_name": "HBoxModel",
            "_view_module": "@jupyter-widgets/controls",
            "_model_module_version": "1.5.0",
            "_view_count": null,
            "_view_module_version": "1.5.0",
            "box_style": "",
            "layout": "IPY_MODEL_a35de48a71fe495681261d0c1e05309b",
            "_model_module": "@jupyter-widgets/controls",
            "children": [
              "IPY_MODEL_6085dd24e323437497c82ea1e1ccca69",
              "IPY_MODEL_80656a41386e4c76942ca991c75602a6"
            ]
          }
        },
        "a35de48a71fe495681261d0c1e05309b": {
          "model_module": "@jupyter-widgets/base",
          "model_name": "LayoutModel",
          "state": {
            "_view_name": "LayoutView",
            "grid_template_rows": null,
            "right": null,
            "justify_content": null,
            "_view_module": "@jupyter-widgets/base",
            "overflow": null,
            "_model_module_version": "1.2.0",
            "_view_count": null,
            "flex_flow": null,
            "width": null,
            "min_width": null,
            "border": null,
            "align_items": null,
            "bottom": null,
            "_model_module": "@jupyter-widgets/base",
            "top": null,
            "grid_column": null,
            "overflow_y": null,
            "overflow_x": null,
            "grid_auto_flow": null,
            "grid_area": null,
            "grid_template_columns": null,
            "flex": null,
            "_model_name": "LayoutModel",
            "justify_items": null,
            "grid_row": null,
            "max_height": null,
            "align_content": null,
            "visibility": null,
            "align_self": null,
            "height": null,
            "min_height": null,
            "padding": null,
            "grid_auto_rows": null,
            "grid_gap": null,
            "max_width": null,
            "order": null,
            "_view_module_version": "1.2.0",
            "grid_template_areas": null,
            "object_position": null,
            "object_fit": null,
            "grid_auto_columns": null,
            "margin": null,
            "display": null,
            "left": null
          }
        },
        "6085dd24e323437497c82ea1e1ccca69": {
          "model_module": "@jupyter-widgets/controls",
          "model_name": "FloatProgressModel",
          "state": {
            "_view_name": "ProgressView",
            "style": "IPY_MODEL_d35f5b4637f14a3dbb4ac8b40b0fa45d",
            "_dom_classes": [],
            "description": "100%",
            "_model_name": "FloatProgressModel",
            "bar_style": "success",
            "max": 3333,
            "_view_module": "@jupyter-widgets/controls",
            "_model_module_version": "1.5.0",
            "value": 3333,
            "_view_count": null,
            "_view_module_version": "1.5.0",
            "orientation": "horizontal",
            "min": 0,
            "description_tooltip": null,
            "_model_module": "@jupyter-widgets/controls",
            "layout": "IPY_MODEL_c3b1b6ed84c648f28f30f0c1e7752ce9"
          }
        },
        "80656a41386e4c76942ca991c75602a6": {
          "model_module": "@jupyter-widgets/controls",
          "model_name": "HTMLModel",
          "state": {
            "_view_name": "HTMLView",
            "style": "IPY_MODEL_01000d54c5144fbaae16e2f9fcb40ef9",
            "_dom_classes": [],
            "description": "",
            "_model_name": "HTMLModel",
            "placeholder": "​",
            "_view_module": "@jupyter-widgets/controls",
            "_model_module_version": "1.5.0",
            "value": " 3333/3333 [19:27&lt;00:00,  2.85it/s]",
            "_view_count": null,
            "_view_module_version": "1.5.0",
            "description_tooltip": null,
            "_model_module": "@jupyter-widgets/controls",
            "layout": "IPY_MODEL_44425a662e6b4cf7a65a5ff521d7de24"
          }
        },
        "d35f5b4637f14a3dbb4ac8b40b0fa45d": {
          "model_module": "@jupyter-widgets/controls",
          "model_name": "ProgressStyleModel",
          "state": {
            "_view_name": "StyleView",
            "_model_name": "ProgressStyleModel",
            "description_width": "initial",
            "_view_module": "@jupyter-widgets/base",
            "_model_module_version": "1.5.0",
            "_view_count": null,
            "_view_module_version": "1.2.0",
            "bar_color": null,
            "_model_module": "@jupyter-widgets/controls"
          }
        },
        "c3b1b6ed84c648f28f30f0c1e7752ce9": {
          "model_module": "@jupyter-widgets/base",
          "model_name": "LayoutModel",
          "state": {
            "_view_name": "LayoutView",
            "grid_template_rows": null,
            "right": null,
            "justify_content": null,
            "_view_module": "@jupyter-widgets/base",
            "overflow": null,
            "_model_module_version": "1.2.0",
            "_view_count": null,
            "flex_flow": null,
            "width": null,
            "min_width": null,
            "border": null,
            "align_items": null,
            "bottom": null,
            "_model_module": "@jupyter-widgets/base",
            "top": null,
            "grid_column": null,
            "overflow_y": null,
            "overflow_x": null,
            "grid_auto_flow": null,
            "grid_area": null,
            "grid_template_columns": null,
            "flex": null,
            "_model_name": "LayoutModel",
            "justify_items": null,
            "grid_row": null,
            "max_height": null,
            "align_content": null,
            "visibility": null,
            "align_self": null,
            "height": null,
            "min_height": null,
            "padding": null,
            "grid_auto_rows": null,
            "grid_gap": null,
            "max_width": null,
            "order": null,
            "_view_module_version": "1.2.0",
            "grid_template_areas": null,
            "object_position": null,
            "object_fit": null,
            "grid_auto_columns": null,
            "margin": null,
            "display": null,
            "left": null
          }
        },
        "01000d54c5144fbaae16e2f9fcb40ef9": {
          "model_module": "@jupyter-widgets/controls",
          "model_name": "DescriptionStyleModel",
          "state": {
            "_view_name": "StyleView",
            "_model_name": "DescriptionStyleModel",
            "description_width": "",
            "_view_module": "@jupyter-widgets/base",
            "_model_module_version": "1.5.0",
            "_view_count": null,
            "_view_module_version": "1.2.0",
            "_model_module": "@jupyter-widgets/controls"
          }
        },
        "44425a662e6b4cf7a65a5ff521d7de24": {
          "model_module": "@jupyter-widgets/base",
          "model_name": "LayoutModel",
          "state": {
            "_view_name": "LayoutView",
            "grid_template_rows": null,
            "right": null,
            "justify_content": null,
            "_view_module": "@jupyter-widgets/base",
            "overflow": null,
            "_model_module_version": "1.2.0",
            "_view_count": null,
            "flex_flow": null,
            "width": null,
            "min_width": null,
            "border": null,
            "align_items": null,
            "bottom": null,
            "_model_module": "@jupyter-widgets/base",
            "top": null,
            "grid_column": null,
            "overflow_y": null,
            "overflow_x": null,
            "grid_auto_flow": null,
            "grid_area": null,
            "grid_template_columns": null,
            "flex": null,
            "_model_name": "LayoutModel",
            "justify_items": null,
            "grid_row": null,
            "max_height": null,
            "align_content": null,
            "visibility": null,
            "align_self": null,
            "height": null,
            "min_height": null,
            "padding": null,
            "grid_auto_rows": null,
            "grid_gap": null,
            "max_width": null,
            "order": null,
            "_view_module_version": "1.2.0",
            "grid_template_areas": null,
            "object_position": null,
            "object_fit": null,
            "grid_auto_columns": null,
            "margin": null,
            "display": null,
            "left": null
          }
        }
      }
    }
  },
  "cells": [
    {
      "cell_type": "code",
      "metadata": {
        "id": "vhX1T11zrZRU",
        "colab_type": "code",
        "colab": {}
      },
      "source": [
        "import tensorflow as tf\n",
        "from tensorflow import keras \n",
        "from tensorflow.keras.layers import *\n",
        "from tensorflow.keras.callbacks import LearningRateScheduler,ModelCheckpoint,Callback"
      ],
      "execution_count": 1,
      "outputs": []
    },
    {
      "cell_type": "code",
      "metadata": {
        "id": "ALNbYIVNsY4s",
        "colab_type": "code",
        "colab": {}
      },
      "source": [
        "import pandas as pd\n",
        "import numpy as np\n",
        "import matplotlib.pyplot as plt\n",
        "import cv2\n",
        "from sklearn.metrics import confusion_matrix\n",
        "from tqdm.notebook import tqdm"
      ],
      "execution_count": 2,
      "outputs": []
    },
    {
      "cell_type": "code",
      "metadata": {
        "id": "3d3KNFxeuhLJ",
        "colab_type": "code",
        "colab": {
          "base_uri": "https://localhost:8080/",
          "height": 128
        },
        "outputId": "57b8ac87-0bee-457c-b366-7c97f487f933"
      },
      "source": [
        "from google.colab import drive\n",
        "drive.mount('/content/gdrive')"
      ],
      "execution_count": 3,
      "outputs": [
        {
          "output_type": "stream",
          "text": [
            "Go to this URL in a browser: https://accounts.google.com/o/oauth2/auth?client_id=947318989803-6bn6qk8qdgf4n4g3pfee6491hc0brc4i.apps.googleusercontent.com&redirect_uri=urn%3aietf%3awg%3aoauth%3a2.0%3aoob&response_type=code&scope=email%20https%3a%2f%2fwww.googleapis.com%2fauth%2fdocs.test%20https%3a%2f%2fwww.googleapis.com%2fauth%2fdrive%20https%3a%2f%2fwww.googleapis.com%2fauth%2fdrive.photos.readonly%20https%3a%2f%2fwww.googleapis.com%2fauth%2fpeopleapi.readonly\n",
            "\n",
            "Enter your authorization code:\n",
            "··········\n",
            "Mounted at /content/gdrive\n"
          ],
          "name": "stdout"
        }
      ]
    },
    {
      "cell_type": "code",
      "metadata": {
        "id": "jUUIFf0Xt2Gj",
        "colab_type": "code",
        "colab": {}
      },
      "source": [
        "train = pd.read_csv(\"/content/gdrive/My Drive/Retail Pulse ML Assignment Data/train.csv\")\n",
        "val = pd.read_csv(\"/content/gdrive/My Drive/Retail Pulse ML Assignment Data/validation.csv\")"
      ],
      "execution_count": 4,
      "outputs": []
    },
    {
      "cell_type": "code",
      "metadata": {
        "id": "CMzt3DcHdXqV",
        "colab_type": "code",
        "colab": {}
      },
      "source": [
        ""
      ],
      "execution_count": 4,
      "outputs": []
    },
    {
      "cell_type": "code",
      "metadata": {
        "id": "Lvw9Vt68sd9N",
        "colab_type": "code",
        "colab": {}
      },
      "source": [
        "\n",
        "train_labels = pd.get_dummies(train.family)\n",
        "val_labels = pd.get_dummies(val.family)\n",
        "\n",
        "train_classes = train_labels.columns\n",
        "val_classes = val_labels.columns\n",
        "\n",
        "train_labels = train_labels.values\n",
        "val_labels = val_labels.values"
      ],
      "execution_count": 5,
      "outputs": []
    },
    {
      "cell_type": "code",
      "metadata": {
        "id": "047rp8g1t0Z-",
        "colab_type": "code",
        "colab": {
          "base_uri": "https://localhost:8080/",
          "height": 67,
          "referenced_widgets": [
            "6deb04a8276544469c02c4d6aba93a15",
            "b30cce327fac4e9ebacd2e32fa80b3a2",
            "30edf17c82ea4d22ac52d6da8c07d67e",
            "062945620e8240629bc3a6c499ac784c",
            "a95e8078ecb84b1188a4c67208504c32",
            "0e6e9fd9504f48118bfe5d1449d6fa20",
            "9a0cede91a0847b5ba30479c8df31fb6",
            "b6544ab879c04af4806b765ddc358d4b"
          ]
        },
        "outputId": "415bf6cc-dae5-45f6-f3c0-7d1101439438"
      },
      "source": [
        "images_train = np.array([\n",
        "    cv2.resize(\n",
        "        cv2.cvtColor(\n",
        "            cv2.imread(i),\n",
        "            cv2.COLOR_BGR2RGB\n",
        "        ),\n",
        "        (64,64),\n",
        "        interpolation=cv2.INTER_CUBIC\n",
        "    ) / 255\n",
        "    \n",
        "    for \n",
        "        i\n",
        "    in\n",
        "        tqdm(train.image.values)\n",
        "]).astype(np.float32)"
      ],
      "execution_count": 6,
      "outputs": [
        {
          "output_type": "display_data",
          "data": {
            "application/vnd.jupyter.widget-view+json": {
              "model_id": "6deb04a8276544469c02c4d6aba93a15",
              "version_minor": 0,
              "version_major": 2
            },
            "text/plain": [
              "HBox(children=(FloatProgress(value=0.0, max=3334.0), HTML(value='')))"
            ]
          },
          "metadata": {
            "tags": []
          }
        },
        {
          "output_type": "stream",
          "text": [
            "\n"
          ],
          "name": "stdout"
        }
      ]
    },
    {
      "cell_type": "code",
      "metadata": {
        "id": "rS7FSmWNgCE5",
        "colab_type": "code",
        "colab": {
          "base_uri": "https://localhost:8080/",
          "height": 35
        },
        "outputId": "f6f4729a-179c-409c-f7cb-ddcbea25389c"
      },
      "source": [
        "images_train.shape"
      ],
      "execution_count": 7,
      "outputs": [
        {
          "output_type": "execute_result",
          "data": {
            "text/plain": [
              "(3334, 64, 64, 3)"
            ]
          },
          "metadata": {
            "tags": []
          },
          "execution_count": 7
        }
      ]
    },
    {
      "cell_type": "code",
      "metadata": {
        "id": "Y_5QG3ywgZWe",
        "colab_type": "code",
        "colab": {
          "base_uri": "https://localhost:8080/",
          "height": 286
        },
        "outputId": "ece9eab6-f1e8-4c4d-ad0a-5dd07619c66b"
      },
      "source": [
        "\n",
        "plt.imshow(images_train[0])"
      ],
      "execution_count": 8,
      "outputs": [
        {
          "output_type": "execute_result",
          "data": {
            "text/plain": [
              "<matplotlib.image.AxesImage at 0x7f65f6419978>"
            ]
          },
          "metadata": {
            "tags": []
          },
          "execution_count": 8
        },
        {
          "output_type": "display_data",
          "data": {
            "image/png": "[encoded data removed]",
            "text/plain": [
              "<Figure size 432x288 with 1 Axes>"
            ]
          },
          "metadata": {
            "tags": [],
            "needs_background": "light"
          }
        }
      ]
    },
    {
      "cell_type": "code",
      "metadata": {
        "id": "WrFxhUpxuxZR",
        "colab_type": "code",
        "colab": {
          "base_uri": "https://localhost:8080/",
          "height": 67,
          "referenced_widgets": [
            "621e31da76e24922afec09a66c34c440",
            "a35de48a71fe495681261d0c1e05309b",
            "6085dd24e323437497c82ea1e1ccca69",
            "80656a41386e4c76942ca991c75602a6",
            "d35f5b4637f14a3dbb4ac8b40b0fa45d",
            "c3b1b6ed84c648f28f30f0c1e7752ce9",
            "01000d54c5144fbaae16e2f9fcb40ef9",
            "44425a662e6b4cf7a65a5ff521d7de24"
          ]
        },
        "outputId": "6bc0af20-6637-4daa-cf24-c74c046bf10e"
      },
      "source": [
        "images_val = np.array([\n",
        "    cv2.resize(\n",
        "        cv2.cvtColor(\n",
        "            cv2.imread(i),\n",
        "            cv2.COLOR_BGR2RGB\n",
        "        ),\n",
        "        (64,64),\n",
        "        interpolation=cv2.INTER_CUBIC\n",
        "    ) / 255\n",
        "    \n",
        "    for \n",
        "        i\n",
        "    in\n",
        "        tqdm(val.image.values)\n",
        "]).astype(np.float32)"
      ],
      "execution_count": 9,
      "outputs": [
        {
          "output_type": "display_data",
          "data": {
            "application/vnd.jupyter.widget-view+json": {
              "model_id": "621e31da76e24922afec09a66c34c440",
              "version_minor": 0,
              "version_major": 2
            },
            "text/plain": [
              "HBox(children=(FloatProgress(value=0.0, max=3333.0), HTML(value='')))"
            ]
          },
          "metadata": {
            "tags": []
          }
        },
        {
          "output_type": "stream",
          "text": [
            "\n"
          ],
          "name": "stdout"
        }
      ]
    },
    {
      "cell_type": "code",
      "metadata": {
        "id": "Z_eLXYILdSHN",
        "colab_type": "code",
        "colab": {
          "base_uri": "https://localhost:8080/",
          "height": 1000
        },
        "outputId": "c0143427-a0b9-4d89-b2b3-72bf690fa950"
      },
      "source": [
        "images_train"
      ],
      "execution_count": 10,
      "outputs": [
        {
          "output_type": "execute_result",
          "data": {
            "text/plain": [
              "array([[[[0.7176471 , 0.8235294 , 0.92941177],\n",
              "         [0.7176471 , 0.8235294 , 0.92941177],\n",
              "         [0.72156864, 0.827451  , 0.93333334],\n",
              "         ...,\n",
              "         [0.7411765 , 0.8352941 , 0.95686275],\n",
              "         [0.7411765 , 0.84705883, 0.9647059 ],\n",
              "         [0.7294118 , 0.8392157 , 0.9647059 ]],\n",
              "\n",
              "        [[0.7176471 , 0.8235294 , 0.92941177],\n",
              "         [0.72156864, 0.827451  , 0.9372549 ],\n",
              "         [0.72156864, 0.83137256, 0.9372549 ],\n",
              "         ...,\n",
              "         [0.7411765 , 0.8352941 , 0.9529412 ],\n",
              "         [0.73333335, 0.8392157 , 0.9490196 ],\n",
              "         [0.73333335, 0.8392157 , 0.95686275]],\n",
              "\n",
              "        [[0.7137255 , 0.83137256, 0.9411765 ],\n",
              "         [0.7176471 , 0.8392157 , 0.9490196 ],\n",
              "         [0.7176471 , 0.8352941 , 0.9490196 ],\n",
              "         ...,\n",
              "         [0.7372549 , 0.8392157 , 0.94509804],\n",
              "         [0.73333335, 0.8352941 , 0.9411765 ],\n",
              "         [0.7372549 , 0.8352941 , 0.9529412 ]],\n",
              "\n",
              "        ...,\n",
              "\n",
              "        [[0.39607844, 0.44705883, 0.27450982],\n",
              "         [0.38431373, 0.43529412, 0.26666668],\n",
              "         [0.3882353 , 0.43529412, 0.26666668],\n",
              "         ...,\n",
              "         [0.34901962, 0.4117647 , 0.2509804 ],\n",
              "         [0.3647059 , 0.43137255, 0.27058825],\n",
              "         [0.38431373, 0.44705883, 0.28627452]],\n",
              "\n",
              "        [[0.3529412 , 0.39607844, 0.25490198],\n",
              "         [0.32941177, 0.37254903, 0.23529412],\n",
              "         [0.34117648, 0.3882353 , 0.24705882],\n",
              "         ...,\n",
              "         [0.34901962, 0.40784314, 0.27450982],\n",
              "         [0.27450982, 0.33333334, 0.2       ],\n",
              "         [0.3882353 , 0.44705883, 0.3137255 ]],\n",
              "\n",
              "        [[0.16862746, 0.21176471, 0.08627451],\n",
              "         [0.14901961, 0.19215687, 0.06666667],\n",
              "         [0.1764706 , 0.21960784, 0.09411765],\n",
              "         ...,\n",
              "         [0.48235294, 0.5411765 , 0.41960785],\n",
              "         [0.24313726, 0.3019608 , 0.18039216],\n",
              "         [0.12941177, 0.1882353 , 0.06666667]]],\n",
              "\n",
              "\n",
              "       [[[0.8352941 , 0.83137256, 0.85490197],\n",
              "         [0.84313726, 0.8392157 , 0.8627451 ],\n",
              "         [0.8509804 , 0.84705883, 0.87058824],\n",
              "         ...,\n",
              "         [0.57254905, 0.6039216 , 0.64705884],\n",
              "         [0.5647059 , 0.59607846, 0.6392157 ],\n",
              "         [0.5647059 , 0.59607846, 0.6392157 ]],\n",
              "\n",
              "        [[0.827451  , 0.8235294 , 0.8509804 ],\n",
              "         [0.83137256, 0.827451  , 0.8509804 ],\n",
              "         [0.8392157 , 0.8352941 , 0.85882354],\n",
              "         ...,\n",
              "         [0.5882353 , 0.6156863 , 0.65882355],\n",
              "         [0.58431375, 0.6156863 , 0.65882355],\n",
              "         [0.58431375, 0.6117647 , 0.65882355]],\n",
              "\n",
              "        [[0.81960785, 0.8156863 , 0.84705883],\n",
              "         [0.81960785, 0.8156863 , 0.8392157 ],\n",
              "         [0.8235294 , 0.81960785, 0.84313726],\n",
              "         ...,\n",
              "         [0.654902  , 0.6745098 , 0.7137255 ],\n",
              "         [0.654902  , 0.6784314 , 0.7137255 ],\n",
              "         [0.65882355, 0.6784314 , 0.7176471 ]],\n",
              "\n",
              "        ...,\n",
              "\n",
              "        [[0.81960785, 0.81960785, 0.8509804 ],\n",
              "         [0.78431374, 0.78431374, 0.8156863 ],\n",
              "         [0.77254903, 0.7764706 , 0.8       ],\n",
              "         ...,\n",
              "         [0.7019608 , 0.7294118 , 0.7607843 ],\n",
              "         [0.7764706 , 0.8039216 , 0.83137256],\n",
              "         [0.7882353 , 0.8156863 , 0.84705883]],\n",
              "\n",
              "        [[0.69803923, 0.69803923, 0.7294118 ],\n",
              "         [0.67058825, 0.67058825, 0.7019608 ],\n",
              "         [0.6627451 , 0.6666667 , 0.6901961 ],\n",
              "         ...,\n",
              "         [0.6862745 , 0.7137255 , 0.73333335],\n",
              "         [0.69803923, 0.7294118 , 0.7411765 ],\n",
              "         [0.6745098 , 0.7058824 , 0.72156864]],\n",
              "\n",
              "        [[0.18039216, 0.18039216, 0.21176471],\n",
              "         [0.16470589, 0.16470589, 0.19607843],\n",
              "         [0.17254902, 0.1764706 , 0.2       ],\n",
              "         ...,\n",
              "         [0.52156866, 0.5529412 , 0.5647059 ],\n",
              "         [0.3372549 , 0.36862746, 0.38039216],\n",
              "         [0.16862746, 0.2       , 0.21176471]]],\n",
              "\n",
              "\n",
              "       [[[0.87058824, 0.9372549 , 0.9647059 ],\n",
              "         [0.87058824, 0.9372549 , 0.9647059 ],\n",
              "         [0.87058824, 0.9372549 , 0.9647059 ],\n",
              "         ...,\n",
              "         [0.8784314 , 0.9372549 , 0.95686275],\n",
              "         [0.87058824, 0.92941177, 0.9490196 ],\n",
              "         [0.87058824, 0.9411765 , 0.95686275]],\n",
              "\n",
              "        [[0.85882354, 0.92941177, 0.9529412 ],\n",
              "         [0.8627451 , 0.92941177, 0.95686275],\n",
              "         [0.8627451 , 0.92941177, 0.95686275],\n",
              "         ...,\n",
              "         [0.8901961 , 0.9490196 , 0.96862745],\n",
              "         [0.8862745 , 0.94509804, 0.9647059 ],\n",
              "         [0.8666667 , 0.93333334, 0.9490196 ]],\n",
              "\n",
              "        [[0.8509804 , 0.9254902 , 0.9490196 ],\n",
              "         [0.85882354, 0.9372549 , 0.95686275],\n",
              "         [0.85882354, 0.93333334, 0.95686275],\n",
              "         ...,\n",
              "         [0.9019608 , 0.9529412 , 0.9764706 ],\n",
              "         [0.8980392 , 0.95686275, 0.9764706 ],\n",
              "         [0.87058824, 0.9254902 , 0.9490196 ]],\n",
              "\n",
              "        ...,\n",
              "\n",
              "        [[0.6784314 , 0.69803923, 0.50980395],\n",
              "         [0.7254902 , 0.74509805, 0.5568628 ],\n",
              "         [0.7647059 , 0.78039217, 0.5921569 ],\n",
              "         ...,\n",
              "         [0.5764706 , 0.59607846, 0.47058824],\n",
              "         [0.6117647 , 0.627451  , 0.5019608 ],\n",
              "         [0.6       , 0.6156863 , 0.49019608]],\n",
              "\n",
              "        [[0.7764706 , 0.78039217, 0.60784316],\n",
              "         [0.8       , 0.80784315, 0.6313726 ],\n",
              "         [0.74509805, 0.7529412 , 0.5764706 ],\n",
              "         ...,\n",
              "         [0.67058825, 0.67058825, 0.5686275 ],\n",
              "         [0.6627451 , 0.6627451 , 0.5568628 ],\n",
              "         [0.72156864, 0.7254902 , 0.61960787]],\n",
              "\n",
              "        [[0.24313726, 0.23529412, 0.07450981],\n",
              "         [0.23529412, 0.22745098, 0.06666667],\n",
              "         [0.22352941, 0.21568628, 0.05882353],\n",
              "         ...,\n",
              "         [0.44313726, 0.43529412, 0.34509805],\n",
              "         [0.4509804 , 0.44313726, 0.3529412 ],\n",
              "         [0.21960784, 0.21176471, 0.12156863]]],\n",
              "\n",
              "\n",
              "       ...,\n",
              "\n",
              "\n",
              "       [[[0.00392157, 0.34509805, 0.65882355],\n",
              "         [0.00392157, 0.34509805, 0.65882355],\n",
              "         [0.00784314, 0.34901962, 0.6627451 ],\n",
              "         ...,\n",
              "         [0.00784314, 0.3254902 , 0.6431373 ],\n",
              "         [0.00392157, 0.32156864, 0.6392157 ],\n",
              "         [0.00392157, 0.32156864, 0.6392157 ]],\n",
              "\n",
              "        [[0.00392157, 0.34509805, 0.65882355],\n",
              "         [0.00784314, 0.34901962, 0.6666667 ],\n",
              "         [0.01176471, 0.3529412 , 0.6666667 ],\n",
              "         ...,\n",
              "         [0.01176471, 0.32941177, 0.64705884],\n",
              "         [0.00784314, 0.3254902 , 0.6431373 ],\n",
              "         [0.00392157, 0.32156864, 0.6392157 ]],\n",
              "\n",
              "        [[0.        , 0.34901962, 0.67058825],\n",
              "         [0.00392157, 0.3529412 , 0.6784314 ],\n",
              "         [0.00392157, 0.35686275, 0.6784314 ],\n",
              "         ...,\n",
              "         [0.01176471, 0.33333334, 0.654902  ],\n",
              "         [0.00784314, 0.32941177, 0.654902  ],\n",
              "         [0.00392157, 0.3254902 , 0.64705884]],\n",
              "\n",
              "        ...,\n",
              "\n",
              "        [[0.4862745 , 0.39607844, 0.38431373],\n",
              "         [0.45882353, 0.36862746, 0.3529412 ],\n",
              "         [0.50980395, 0.41960785, 0.4       ],\n",
              "         ...,\n",
              "         [0.52156866, 0.4117647 , 0.39607844],\n",
              "         [0.5019608 , 0.39215687, 0.3764706 ],\n",
              "         [0.52156866, 0.40784314, 0.39215687]],\n",
              "\n",
              "        [[0.39215687, 0.32941177, 0.31764707],\n",
              "         [0.32941177, 0.26666668, 0.25490198],\n",
              "         [0.33333334, 0.26666668, 0.25490198],\n",
              "         ...,\n",
              "         [0.3764706 , 0.29803923, 0.27450982],\n",
              "         [0.44313726, 0.36078432, 0.34117648],\n",
              "         [0.3882353 , 0.30588236, 0.2901961 ]],\n",
              "\n",
              "        [[0.34901962, 0.29411766, 0.2901961 ],\n",
              "         [0.39215687, 0.3372549 , 0.33333334],\n",
              "         [0.27450982, 0.21960784, 0.20784314],\n",
              "         ...,\n",
              "         [0.43529412, 0.3647059 , 0.34509805],\n",
              "         [0.5137255 , 0.44313726, 0.42745098],\n",
              "         [0.32941177, 0.25882354, 0.24313726]]],\n",
              "\n",
              "\n",
              "       [[[0.4392157 , 0.4745098 , 0.5372549 ],\n",
              "         [0.38039216, 0.41960785, 0.46666667],\n",
              "         [0.39215687, 0.42745098, 0.47843137],\n",
              "         ...,\n",
              "         [0.47058824, 0.49803922, 0.53333336],\n",
              "         [0.4627451 , 0.4745098 , 0.49411765],\n",
              "         [0.5137255 , 0.5137255 , 0.52156866]],\n",
              "\n",
              "        [[0.45490196, 0.49019608, 0.54901963],\n",
              "         [0.41960785, 0.45882353, 0.5058824 ],\n",
              "         [0.43137255, 0.46666667, 0.5176471 ],\n",
              "         ...,\n",
              "         [0.48235294, 0.5058824 , 0.53333336],\n",
              "         [0.45882353, 0.47058824, 0.49019608],\n",
              "         [0.5019608 , 0.5058824 , 0.50980395]],\n",
              "\n",
              "        [[0.4745098 , 0.5137255 , 0.56078434],\n",
              "         [0.45882353, 0.49019608, 0.5411765 ],\n",
              "         [0.45882353, 0.49019608, 0.53333336],\n",
              "         ...,\n",
              "         [0.5019608 , 0.5137255 , 0.54509807],\n",
              "         [0.49019608, 0.49803922, 0.5176471 ],\n",
              "         [0.5254902 , 0.5254902 , 0.53333336]],\n",
              "\n",
              "        ...,\n",
              "\n",
              "        [[0.1254902 , 0.13333334, 0.12941177],\n",
              "         [0.1254902 , 0.13333334, 0.12941177],\n",
              "         [0.1254902 , 0.13333334, 0.12941177],\n",
              "         ...,\n",
              "         [0.10980392, 0.10980392, 0.10980392],\n",
              "         [0.1254902 , 0.1254902 , 0.12156863],\n",
              "         [0.11764706, 0.11764706, 0.11764706]],\n",
              "\n",
              "        [[0.12156863, 0.1254902 , 0.13333334],\n",
              "         [0.12156863, 0.1254902 , 0.13333334],\n",
              "         [0.12156863, 0.1254902 , 0.13333334],\n",
              "         ...,\n",
              "         [0.13725491, 0.14117648, 0.14509805],\n",
              "         [0.16862746, 0.17254902, 0.18039216],\n",
              "         [0.13333334, 0.13333334, 0.14117648]],\n",
              "\n",
              "        [[0.15686275, 0.16078432, 0.16862746],\n",
              "         [0.15686275, 0.16078432, 0.16862746],\n",
              "         [0.15686275, 0.16078432, 0.16862746],\n",
              "         ...,\n",
              "         [0.44705883, 0.4509804 , 0.45882353],\n",
              "         [0.25882354, 0.2627451 , 0.27058825],\n",
              "         [0.16078432, 0.16470589, 0.17254902]]],\n",
              "\n",
              "\n",
              "       [[[0.3019608 , 0.38431373, 0.27450982],\n",
              "         [0.29803923, 0.4       , 0.3019608 ],\n",
              "         [0.36862746, 0.49019608, 0.41568628],\n",
              "         ...,\n",
              "         [0.1764706 , 0.33333334, 0.3019608 ],\n",
              "         [0.11764706, 0.27450982, 0.24313726],\n",
              "         [0.16862746, 0.32941177, 0.3019608 ]],\n",
              "\n",
              "        [[0.3137255 , 0.3882353 , 0.27058825],\n",
              "         [0.28235295, 0.37254903, 0.27058825],\n",
              "         [0.30588236, 0.42352942, 0.34117648],\n",
              "         ...,\n",
              "         [0.3137255 , 0.45882353, 0.43137255],\n",
              "         [0.19607843, 0.34117648, 0.3137255 ],\n",
              "         [0.18039216, 0.33333334, 0.30980393]],\n",
              "\n",
              "        [[0.3372549 , 0.40392157, 0.26666668],\n",
              "         [0.16078432, 0.23529412, 0.12156863],\n",
              "         [0.15686275, 0.2627451 , 0.16078432],\n",
              "         ...,\n",
              "         [0.42352942, 0.5568628 , 0.5294118 ],\n",
              "         [0.3764706 , 0.50980395, 0.48235294],\n",
              "         [0.3882353 , 0.5294118 , 0.5019608 ]],\n",
              "\n",
              "        ...,\n",
              "\n",
              "        [[0.4       , 0.44313726, 0.40784314],\n",
              "         [0.38431373, 0.42745098, 0.39215687],\n",
              "         [0.40392157, 0.44705883, 0.4117647 ],\n",
              "         ...,\n",
              "         [0.30588236, 0.35686275, 0.32156864],\n",
              "         [0.30588236, 0.35686275, 0.31764707],\n",
              "         [0.29803923, 0.34901962, 0.3137255 ]],\n",
              "\n",
              "        [[0.3372549 , 0.37254903, 0.3372549 ],\n",
              "         [0.31764707, 0.34509805, 0.3137255 ],\n",
              "         [0.30980393, 0.34117648, 0.30980393],\n",
              "         ...,\n",
              "         [0.2901961 , 0.34117648, 0.30980393],\n",
              "         [0.31764707, 0.36862746, 0.34117648],\n",
              "         [0.28627452, 0.3372549 , 0.30980393]],\n",
              "\n",
              "        [[0.30980393, 0.3372549 , 0.30588236],\n",
              "         [0.36862746, 0.39607844, 0.3647059 ],\n",
              "         [0.26666668, 0.29411766, 0.2627451 ],\n",
              "         ...,\n",
              "         [0.43137255, 0.48235294, 0.45490196],\n",
              "         [0.21960784, 0.27058825, 0.24313726],\n",
              "         [0.12941177, 0.18039216, 0.15294118]]]], dtype=float32)"
            ]
          },
          "metadata": {
            "tags": []
          },
          "execution_count": 10
        }
      ]
    },
    {
      "cell_type": "code",
      "metadata": {
        "id": "Rs_cvmf1u03A",
        "colab_type": "code",
        "colab": {}
      },
      "source": [
        "def plot_model_history(model_history):\n",
        "    fig, axs = plt.subplots(1,2,figsize=(15,5))\n",
        "    # summarize history for accuracy\n",
        "    axs[0].plot(range(1,len(model_history.history['accuracy'])+1),model_history.history['accuracy'])\n",
        "    axs[0].plot(range(1,len(model_history.history['val_accuracy'])+1),model_history.history['val_accuracy'])\n",
        "    axs[0].set_title('Model Accuracy')\n",
        "    axs[0].set_ylabel('Accuracy')\n",
        "    axs[0].set_xlabel('Epoch')\n",
        "    axs[0].set_xticks(np.arange(1,len(model_history.history['accuracy'])+1),len(model_history.history['accuracy'])/10)\n",
        "    axs[0].legend(['train', 'val'], loc='best')\n",
        "    # summarize history for loss\n",
        "    axs[1].plot(range(1,len(model_history.history['loss'])+1),model_history.history['loss'])\n",
        "    axs[1].plot(range(1,len(model_history.history['val_loss'])+1),model_history.history['val_loss'])\n",
        "    axs[1].set_title('Model Loss')\n",
        "    axs[1].set_ylabel('Loss')\n",
        "    axs[1].set_xlabel('Epoch')\n",
        "    axs[1].set_xticks(np.arange(1,len(model_history.history['loss'])+1),len(model_history.history['loss'])/10)\n",
        "    axs[1].legend(['train', 'val'], loc='best')\n",
        "    plt.show()"
      ],
      "execution_count": 11,
      "outputs": []
    },
    {
      "cell_type": "code",
      "metadata": {
        "id": "lgI2_dwMu8dR",
        "colab_type": "code",
        "colab": {}
      },
      "source": [
        "def accuracy(test_x, test_y, model):\n",
        "    result = model.predict(test_x)\n",
        "    predicted_class = np.argmax(result, axis=1)\n",
        "    true_class = np.argmax(test_y, axis=1)\n",
        "    num_correct = np.sum(predicted_class == true_class) \n",
        "    accuracy = float(num_correct)/result.shape[0]\n",
        "    return (accuracy * 100)"
      ],
      "execution_count": 12,
      "outputs": []
    },
    {
      "cell_type": "code",
      "metadata": {
        "id": "5F30EaGyCSo6",
        "colab_type": "code",
        "colab": {
          "base_uri": "https://localhost:8080/",
          "height": 35
        },
        "outputId": "7ca2dfb1-46da-46ad-bd98-053063beb148"
      },
      "source": [
        "from keras.models import Sequential, Model"
      ],
      "execution_count": 13,
      "outputs": [
        {
          "output_type": "stream",
          "text": [
            "Using TensorFlow backend.\n"
          ],
          "name": "stderr"
        }
      ]
    },
    {
      "cell_type": "code",
      "metadata": {
        "id": "S-NVvEJQGGLG",
        "colab_type": "code",
        "colab": {}
      },
      "source": [
        "from keras import backend as K\n",
        "import time\n",
        "import matplotlib.pyplot as plt\n",
        "import numpy as np\n",
        "% matplotlib inline\n",
        "np.random.seed(2017) \n",
        "import keras.models\n",
        "from keras import regularizers\n",
        "from keras.models import Sequential\n",
        "from keras.layers.convolutional import Convolution2D, MaxPooling2D,AveragePooling2D\n",
        "from keras.layers import Activation, Flatten, Dense, Dropout,Conv2D\n",
        "from keras.layers.normalization import BatchNormalization\n",
        "from keras.utils import np_utils\n",
        "from keras.preprocessing.image import ImageDataGenerator\n",
        "import matplotlib.gridspec as gridspec"
      ],
      "execution_count": 14,
      "outputs": []
    },
    {
      "cell_type": "code",
      "metadata": {
        "id": "ho0tv_8RUGys",
        "colab_type": "code",
        "colab": {
          "base_uri": "https://localhost:8080/",
          "height": 255
        },
        "outputId": "52decd04-d1b6-4ff4-db5a-9f4de595f269"
      },
      "source": [
        "model = Sequential()\n",
        "model.add(Conv2D(32, (3, 3), border_mode='same',kernel_regularizer=regularizers.l2(0.0001), input_shape=(64, 64, 3)))\n",
        "model.add(BatchNormalization())\n",
        "model.add(Activation('relu')) #32\n",
        "\n",
        "\n",
        "model.add(Conv2D(64, (3, 3), border_mode='same', kernel_regularizer=regularizers.l2(0.0001)))\n",
        "model.add(BatchNormalization())\n",
        "model.add(Activation('relu')) #32\n",
        "\n",
        "\n",
        "model.add(MaxPooling2D(pool_size=(2, 2))) #16\n",
        "model.add(Dropout(0.2))\n",
        "model.add(Conv2D(32, 1, 1))\n",
        "\n",
        "\n",
        "model.add(Conv2D(64, 3, 3,border_mode='same', kernel_regularizer=regularizers.l2(0.0001)))\n",
        "model.add(BatchNormalization())\n",
        "model.add(Activation('relu')) #16\n",
        "\n",
        "\n",
        "model.add(Conv2D(128, 3, 3, border_mode='same', kernel_regularizer=regularizers.l2(0.0001)))\n",
        "model.add(BatchNormalization())\n",
        "model.add(Activation('relu')) #16\n",
        "\n",
        "\n",
        "model.add(MaxPooling2D(pool_size=(2, 2))) #8\n",
        "model.add(Dropout(0.3))\n",
        "model.add(Conv2D(32, 1, 1))\n",
        "\n",
        "\n",
        "model.add(Conv2D(128, (3, 3), border_mode='same', kernel_regularizer=regularizers.l2(0.0001)))\n",
        "model.add(BatchNormalization())\n",
        "model.add(Activation('relu')) #8\n",
        "\n",
        "\n",
        "model.add(Conv2D(256, (3, 3), border_mode='same', kernel_regularizer=regularizers.l2(0.0001)))\n",
        "model.add(BatchNormalization())\n",
        "model.add(Activation('relu')) #8\n",
        "\n",
        "\n",
        "model.add(MaxPooling2D(pool_size=(2, 2))) #4\n",
        "model.add(Dropout(0.5))\n",
        "model.add(Conv2D(70, 1, 1))\n",
        "\n",
        "model.add(AveragePooling2D(pool_size = (8,8)))\n",
        "model.add(Flatten())\n",
        "\n",
        "\n",
        "model.add(Activation('softmax'))"
      ],
      "execution_count": 15,
      "outputs": [
        {
          "output_type": "stream",
          "text": [
            "/usr/local/lib/python3.6/dist-packages/ipykernel_launcher.py:2: UserWarning: Update your `Conv2D` call to the Keras 2 API: `Conv2D(32, (3, 3), kernel_regularizer=<keras.reg..., input_shape=(64, 64, 3..., padding=\"same\")`\n",
            "  \n",
            "/usr/local/lib/python3.6/dist-packages/ipykernel_launcher.py:7: UserWarning: Update your `Conv2D` call to the Keras 2 API: `Conv2D(64, (3, 3), kernel_regularizer=<keras.reg..., padding=\"same\")`\n",
            "  import sys\n",
            "/usr/local/lib/python3.6/dist-packages/ipykernel_launcher.py:14: UserWarning: Update your `Conv2D` call to the Keras 2 API: `Conv2D(32, (1, 1))`\n",
            "  \n",
            "/usr/local/lib/python3.6/dist-packages/ipykernel_launcher.py:17: UserWarning: Update your `Conv2D` call to the Keras 2 API: `Conv2D(64, (3, 3), kernel_regularizer=<keras.reg..., padding=\"same\")`\n",
            "/usr/local/lib/python3.6/dist-packages/ipykernel_launcher.py:22: UserWarning: Update your `Conv2D` call to the Keras 2 API: `Conv2D(128, (3, 3), kernel_regularizer=<keras.reg..., padding=\"same\")`\n",
            "/usr/local/lib/python3.6/dist-packages/ipykernel_launcher.py:29: UserWarning: Update your `Conv2D` call to the Keras 2 API: `Conv2D(32, (1, 1))`\n",
            "/usr/local/lib/python3.6/dist-packages/ipykernel_launcher.py:32: UserWarning: Update your `Conv2D` call to the Keras 2 API: `Conv2D(128, (3, 3), kernel_regularizer=<keras.reg..., padding=\"same\")`\n",
            "/usr/local/lib/python3.6/dist-packages/ipykernel_launcher.py:37: UserWarning: Update your `Conv2D` call to the Keras 2 API: `Conv2D(256, (3, 3), kernel_regularizer=<keras.reg..., padding=\"same\")`\n",
            "/usr/local/lib/python3.6/dist-packages/ipykernel_launcher.py:44: UserWarning: Update your `Conv2D` call to the Keras 2 API: `Conv2D(70, (1, 1))`\n"
          ],
          "name": "stderr"
        }
      ]
    },
    {
      "cell_type": "code",
      "metadata": {
        "id": "qHEFhcwVB_rG",
        "colab_type": "code",
        "colab": {
          "base_uri": "https://localhost:8080/",
          "height": 1000
        },
        "outputId": "e5bc621a-d8d8-439a-8eba-70ecbf1ab5f8"
      },
      "source": [
        "model.summary()"
      ],
      "execution_count": 16,
      "outputs": [
        {
          "output_type": "stream",
          "text": [
            "Model: \"sequential_1\"\n",
            "_________________________________________________________________\n",
            "Layer (type)                 Output Shape              Param #   \n",
            "=================================================================\n",
            "conv2d_1 (Conv2D)            (None, 64, 64, 32)        896       \n",
            "_________________________________________________________________\n",
            "batch_normalization_1 (Batch (None, 64, 64, 32)        128       \n",
            "_________________________________________________________________\n",
            "activation_1 (Activation)    (None, 64, 64, 32)        0         \n",
            "_________________________________________________________________\n",
            "conv2d_2 (Conv2D)            (None, 64, 64, 64)        18496     \n",
            "_________________________________________________________________\n",
            "batch_normalization_2 (Batch (None, 64, 64, 64)        256       \n",
            "_________________________________________________________________\n",
            "activation_2 (Activation)    (None, 64, 64, 64)        0         \n",
            "_________________________________________________________________\n",
            "max_pooling2d_1 (MaxPooling2 (None, 32, 32, 64)        0         \n",
            "_________________________________________________________________\n",
            "dropout_1 (Dropout)          (None, 32, 32, 64)        0         \n",
            "_________________________________________________________________\n",
            "conv2d_3 (Conv2D)            (None, 32, 32, 32)        2080      \n",
            "_________________________________________________________________\n",
            "conv2d_4 (Conv2D)            (None, 32, 32, 64)        18496     \n",
            "_________________________________________________________________\n",
            "batch_normalization_3 (Batch (None, 32, 32, 64)        256       \n",
            "_________________________________________________________________\n",
            "activation_3 (Activation)    (None, 32, 32, 64)        0         \n",
            "_________________________________________________________________\n",
            "conv2d_5 (Conv2D)            (None, 32, 32, 128)       73856     \n",
            "_________________________________________________________________\n",
            "batch_normalization_4 (Batch (None, 32, 32, 128)       512       \n",
            "_________________________________________________________________\n",
            "activation_4 (Activation)    (None, 32, 32, 128)       0         \n",
            "_________________________________________________________________\n",
            "max_pooling2d_2 (MaxPooling2 (None, 16, 16, 128)       0         \n",
            "_________________________________________________________________\n",
            "dropout_2 (Dropout)          (None, 16, 16, 128)       0         \n",
            "_________________________________________________________________\n",
            "conv2d_6 (Conv2D)            (None, 16, 16, 32)        4128      \n",
            "_________________________________________________________________\n",
            "conv2d_7 (Conv2D)            (None, 16, 16, 128)       36992     \n",
            "_________________________________________________________________\n",
            "batch_normalization_5 (Batch (None, 16, 16, 128)       512       \n",
            "_________________________________________________________________\n",
            "activation_5 (Activation)    (None, 16, 16, 128)       0         \n",
            "_________________________________________________________________\n",
            "conv2d_8 (Conv2D)            (None, 16, 16, 256)       295168    \n",
            "_________________________________________________________________\n",
            "batch_normalization_6 (Batch (None, 16, 16, 256)       1024      \n",
            "_________________________________________________________________\n",
            "activation_6 (Activation)    (None, 16, 16, 256)       0         \n",
            "_________________________________________________________________\n",
            "max_pooling2d_3 (MaxPooling2 (None, 8, 8, 256)         0         \n",
            "_________________________________________________________________\n",
            "dropout_3 (Dropout)          (None, 8, 8, 256)         0         \n",
            "_________________________________________________________________\n",
            "conv2d_9 (Conv2D)            (None, 8, 8, 70)          17990     \n",
            "_________________________________________________________________\n",
            "average_pooling2d_1 (Average (None, 1, 1, 70)          0         \n",
            "_________________________________________________________________\n",
            "flatten_1 (Flatten)          (None, 70)                0         \n",
            "_________________________________________________________________\n",
            "activation_7 (Activation)    (None, 70)                0         \n",
            "=================================================================\n",
            "Total params: 470,790\n",
            "Trainable params: 469,446\n",
            "Non-trainable params: 1,344\n",
            "_________________________________________________________________\n"
          ],
          "name": "stdout"
        }
      ]
    },
    {
      "cell_type": "code",
      "metadata": {
        "id": "iU3vLB_fCe7z",
        "colab_type": "code",
        "colab": {}
      },
      "source": [
        "model.compile(optimizer='adam', loss='categorical_crossentropy', metrics=['accuracy'])"
      ],
      "execution_count": 17,
      "outputs": []
    },
    {
      "cell_type": "code",
      "metadata": {
        "id": "WNQVYV_QitE3",
        "colab_type": "code",
        "colab": {}
      },
      "source": [
        "import time"
      ],
      "execution_count": 18,
      "outputs": []
    },
    {
      "cell_type": "code",
      "metadata": {
        "id": "3c8CFccHI64m",
        "colab_type": "code",
        "colab": {
          "base_uri": "https://localhost:8080/",
          "height": 1000
        },
        "outputId": "a71737a7-ce00-4b96-bf8d-9d94a476b8c0"
      },
      "source": [
        "from keras.preprocessing.image import ImageDataGenerator\n",
        "\n",
        "datagen = ImageDataGenerator(zoom_range=0.0, \n",
        "                             horizontal_flip=False)\n",
        "\n",
        "\n",
        "# train the model\n",
        "start = time.time()\n",
        "# Train the model\n",
        "model_info = model.fit_generator(datagen.flow(images_train, train_labels, batch_size = 128),\n",
        "                                 samples_per_epoch = images_train.shape[0], nb_epoch = 20, \n",
        "                                 validation_data = (images_val, val_labels), verbose=1)\n",
        "end = time.time()\n",
        "print (\"Model took %0.2f seconds to train\"%(end - start))\n",
        "# plot model history\n",
        "plot_model_history(model_info)\n"
      ],
      "execution_count": 22,
      "outputs": [
        {
          "output_type": "stream",
          "text": [
            "Epoch 1/20\n",
            "\r 1/26 [>.............................] - ETA: 2s - loss: 1.0526 - accuracy: 0.7422"
          ],
          "name": "stdout"
        },
        {
          "output_type": "stream",
          "text": [
            "/usr/local/lib/python3.6/dist-packages/ipykernel_launcher.py:12: UserWarning: The semantics of the Keras 2 argument `steps_per_epoch` is not the same as the Keras 1 argument `samples_per_epoch`. `steps_per_epoch` is the number of batches to draw from the generator at each epoch. Basically steps_per_epoch = samples_per_epoch/batch_size. Similarly `nb_val_samples`->`validation_steps` and `val_samples`->`steps` arguments have changed. Update your method calls accordingly.\n",
            "  if sys.path[0] == '':\n",
            "/usr/local/lib/python3.6/dist-packages/ipykernel_launcher.py:12: UserWarning: Update your `fit_generator` call to the Keras 2 API: `fit_generator(<keras.pre..., validation_data=(array([[[..., verbose=1, steps_per_epoch=26, epochs=20)`\n",
            "  if sys.path[0] == '':\n"
          ],
          "name": "stderr"
        },
        {
          "output_type": "stream",
          "text": [
            "26/26 [==============================] - 3s 114ms/step - loss: 0.9504 - accuracy: 0.7801 - val_loss: 2.9762 - val_accuracy: 0.2985\n",
            "Epoch 2/20\n",
            "26/26 [==============================] - 3s 113ms/step - loss: 0.8621 - accuracy: 0.8222 - val_loss: 2.8431 - val_accuracy: 0.3012\n",
            "Epoch 3/20\n",
            "26/26 [==============================] - 3s 113ms/step - loss: 0.8115 - accuracy: 0.8238 - val_loss: 2.5144 - val_accuracy: 0.3774\n",
            "Epoch 4/20\n",
            "26/26 [==============================] - 3s 116ms/step - loss: 0.7036 - accuracy: 0.8735 - val_loss: 2.5474 - val_accuracy: 0.3657\n",
            "Epoch 5/20\n",
            "26/26 [==============================] - 3s 111ms/step - loss: 0.9044 - accuracy: 0.8116 - val_loss: 3.5070 - val_accuracy: 0.2547\n",
            "Epoch 6/20\n",
            "26/26 [==============================] - 3s 114ms/step - loss: 0.9805 - accuracy: 0.7620 - val_loss: 3.4694 - val_accuracy: 0.2721\n",
            "Epoch 7/20\n",
            "26/26 [==============================] - 3s 113ms/step - loss: 0.8058 - accuracy: 0.8266 - val_loss: 2.6202 - val_accuracy: 0.3531\n",
            "Epoch 8/20\n",
            "26/26 [==============================] - 3s 116ms/step - loss: 0.6609 - accuracy: 0.8837 - val_loss: 2.6589 - val_accuracy: 0.3747\n",
            "Epoch 9/20\n",
            "26/26 [==============================] - 3s 114ms/step - loss: 0.8768 - accuracy: 0.8054 - val_loss: 2.7173 - val_accuracy: 0.3648\n",
            "Epoch 10/20\n",
            "26/26 [==============================] - 3s 113ms/step - loss: 0.7866 - accuracy: 0.8284 - val_loss: 2.6668 - val_accuracy: 0.3561\n",
            "Epoch 11/20\n",
            "26/26 [==============================] - 3s 111ms/step - loss: 0.8720 - accuracy: 0.8350 - val_loss: 3.1513 - val_accuracy: 0.2874\n",
            "Epoch 12/20\n",
            "26/26 [==============================] - 3s 113ms/step - loss: 0.8706 - accuracy: 0.8032 - val_loss: 3.4323 - val_accuracy: 0.2676\n",
            "Epoch 13/20\n",
            "26/26 [==============================] - 3s 116ms/step - loss: 0.6751 - accuracy: 0.8789 - val_loss: 2.5791 - val_accuracy: 0.3810\n",
            "Epoch 14/20\n",
            "26/26 [==============================] - 3s 113ms/step - loss: 0.5891 - accuracy: 0.8964 - val_loss: 2.6379 - val_accuracy: 0.3648\n",
            "Epoch 15/20\n",
            "26/26 [==============================] - 3s 113ms/step - loss: 0.6656 - accuracy: 0.8784 - val_loss: 3.0016 - val_accuracy: 0.3330\n",
            "Epoch 16/20\n",
            "26/26 [==============================] - 3s 111ms/step - loss: 0.7962 - accuracy: 0.8350 - val_loss: 9.7084 - val_accuracy: 0.0648\n",
            "Epoch 17/20\n",
            "26/26 [==============================] - 3s 116ms/step - loss: 0.8645 - accuracy: 0.8083 - val_loss: 2.7898 - val_accuracy: 0.3615\n",
            "Epoch 18/20\n",
            "26/26 [==============================] - 3s 113ms/step - loss: 0.6787 - accuracy: 0.8649 - val_loss: 2.9423 - val_accuracy: 0.3225\n",
            "Epoch 19/20\n",
            "26/26 [==============================] - 3s 114ms/step - loss: 0.7390 - accuracy: 0.8612 - val_loss: 3.6626 - val_accuracy: 0.2451\n",
            "Epoch 20/20\n",
            "26/26 [==============================] - 3s 113ms/step - loss: 0.7511 - accuracy: 0.8546 - val_loss: 4.7030 - val_accuracy: 0.2115\n",
            "Model took 59.17 seconds to train\n"
          ],
          "name": "stdout"
        },
        {
          "output_type": "stream",
          "text": [
            "/usr/local/lib/python3.6/dist-packages/ipykernel_launcher.py:9: MatplotlibDeprecationWarning: Passing the minor parameter of set_xticks() positionally is deprecated since Matplotlib 3.2; the parameter will become keyword-only two minor releases later.\n",
            "  if __name__ == '__main__':\n",
            "/usr/local/lib/python3.6/dist-packages/ipykernel_launcher.py:17: MatplotlibDeprecationWarning: Passing the minor parameter of set_xticks() positionally is deprecated since Matplotlib 3.2; the parameter will become keyword-only two minor releases later.\n"
          ],
          "name": "stderr"
        },
        {
          "output_type": "display_data",
          "data": {
            "image/png": "[encoded data removed]",
            "text/plain": [
              "<Figure size 1080x360 with 2 Axes>"
            ]
          },
          "metadata": {
            "tags": [],
            "needs_background": "light"
          }
        }
      ]
    },
    {
      "cell_type": "code",
      "metadata": {
        "id": "lXKRV4jOKv2W",
        "colab_type": "code",
        "colab": {
          "base_uri": "https://localhost:8080/",
          "height": 425
        },
        "outputId": "7fef86b3-1c18-4079-a8f5-e5ec286c31a9"
      },
      "source": [
        "plot_model_history(model_info)"
      ],
      "execution_count": 20,
      "outputs": [
        {
          "output_type": "stream",
          "text": [
            "/usr/local/lib/python3.6/dist-packages/ipykernel_launcher.py:9: MatplotlibDeprecationWarning: Passing the minor parameter of set_xticks() positionally is deprecated since Matplotlib 3.2; the parameter will become keyword-only two minor releases later.\n",
            "  if __name__ == '__main__':\n",
            "/usr/local/lib/python3.6/dist-packages/ipykernel_launcher.py:17: MatplotlibDeprecationWarning: Passing the minor parameter of set_xticks() positionally is deprecated since Matplotlib 3.2; the parameter will become keyword-only two minor releases later.\n"
          ],
          "name": "stderr"
        },
        {
          "output_type": "display_data",
          "data": {
            "image/png": "[encoded data removed]",
            "text/plain": [
              "<Figure size 1080x360 with 2 Axes>"
            ]
          },
          "metadata": {
            "tags": [],
            "needs_background": "light"
          }
        }
      ]
    },
    {
      "cell_type": "code",
      "metadata": {
        "id": "jjxF72cK5kBY",
        "colab_type": "code",
        "colab": {
          "base_uri": "https://localhost:8080/",
          "height": 35
        },
        "outputId": "39cb984e-7797-4714-fd72-e3e3e4cef6c8"
      },
      "source": [
        "predictions = model.predict(images_train,verbose=1,batch_size=64)\n",
        "y_pred = predictions.argmax(-1)\n",
        "y_true = train_labels.argmax(-1)"
      ],
      "execution_count": 23,
      "outputs": [
        {
          "output_type": "stream",
          "text": [
            "3334/3334 [==============================] - 1s 290us/step\n"
          ],
          "name": "stdout"
        }
      ]
    },
    {
      "cell_type": "code",
      "metadata": {
        "id": "dM1caGI2bvNR",
        "colab_type": "code",
        "colab": {
          "base_uri": "https://localhost:8080/",
          "height": 35
        },
        "outputId": "d1817659-e3a1-4d24-bcaf-e7a9aafa81f7"
      },
      "source": [
        "y_pred"
      ],
      "execution_count": 27,
      "outputs": [
        {
          "output_type": "execute_result",
          "data": {
            "text/plain": [
              "array([21, 66, 29, ..., 54, 54, 14])"
            ]
          },
          "metadata": {
            "tags": []
          },
          "execution_count": 27
        }
      ]
    },
    {
      "cell_type": "code",
      "metadata": {
        "id": "UOvFh7t-b7ch",
        "colab_type": "code",
        "colab": {}
      },
      "source": [
        "from sklearn.metrics import confusion_matrix"
      ],
      "execution_count": 25,
      "outputs": []
    },
    {
      "cell_type": "code",
      "metadata": {
        "id": "Fg-zwsChb0V9",
        "colab_type": "code",
        "colab": {}
      },
      "source": [
        "cm = confusion_matrix(y_true,y_pred)"
      ],
      "execution_count": 28,
      "outputs": []
    },
    {
      "cell_type": "code",
      "metadata": {
        "id": "T5kUBLylb-gb",
        "colab_type": "code",
        "colab": {
          "base_uri": "https://localhost:8080/",
          "height": 145
        },
        "outputId": "a54dce21-17c2-4449-c185-d148df157ffd"
      },
      "source": [
        "cm"
      ],
      "execution_count": 29,
      "outputs": [
        {
          "output_type": "execute_result",
          "data": {
            "text/plain": [
              "array([[ 0,  0,  2, ...,  0,  0,  0],\n",
              "       [ 0,  6,  1, ...,  0,  0,  0],\n",
              "       [ 0,  0, 39, ...,  0,  0,  2],\n",
              "       ...,\n",
              "       [ 0,  0,  0, ..., 16,  0,  0],\n",
              "       [ 0,  0,  0, ...,  3,  2,  4],\n",
              "       [ 0,  0,  0, ...,  0,  0, 27]])"
            ]
          },
          "metadata": {
            "tags": []
          },
          "execution_count": 29
        }
      ]
    },
    {
      "cell_type": "code",
      "metadata": {
        "id": "QfxmgA8ecPjc",
        "colab_type": "code",
        "colab": {}
      },
      "source": [
        "class_Acc = (cm.astype('float') / cm.sum(axis=1)[:, np.newaxis]).diagonal()"
      ],
      "execution_count": 38,
      "outputs": []
    },
    {
      "cell_type": "code",
      "metadata": {
        "id": "TOX9uWXAccuc",
        "colab_type": "code",
        "colab": {
          "base_uri": "https://localhost:8080/",
          "height": 272
        },
        "outputId": "55e8caf4-43a2-463c-e419-72541f7c29fa"
      },
      "source": [
        "class_Acc"
      ],
      "execution_count": 37,
      "outputs": [
        {
          "output_type": "execute_result",
          "data": {
            "text/plain": [
              "array([0.        , 0.18181818, 0.29323308, 0.        , 0.09022556,\n",
              "       0.76470588, 0.15151515, 0.3030303 , 0.88235294, 0.26865672,\n",
              "       0.39393939, 0.63636364, 0.55882353, 0.63636364, 0.39393939,\n",
              "       0.52059925, 0.7593985 , 0.10447761, 0.39      , 0.46969697,\n",
              "       0.        , 1.        , 0.66666667, 0.34328358, 0.57575758,\n",
              "       0.70588235, 0.62121212, 0.26470588, 0.15151515, 0.45454545,\n",
              "       0.58823529, 0.03030303, 0.6969697 , 0.85294118, 0.90909091,\n",
              "       0.75757576, 1.        , 0.1641791 , 0.58823529, 0.21212121,\n",
              "       0.61      , 0.80597015, 0.39393939, 0.15151515, 0.23529412,\n",
              "       0.03030303, 0.48484848, 1.        , 0.57575758, 0.21212121,\n",
              "       0.38235294, 0.27272727, 0.74626866, 0.72727273, 0.81818182,\n",
              "       0.67647059, 0.17647059, 0.03030303, 0.41791045, 0.27272727,\n",
              "       0.63636364, 0.39393939, 1.        , 0.41176471, 0.6969697 ,\n",
              "       0.27272727, 0.44117647, 0.48484848, 0.06060606, 0.79411765])"
            ]
          },
          "metadata": {
            "tags": []
          },
          "execution_count": 37
        }
      ]
    },
    {
      "cell_type": "code",
      "metadata": {
        "id": "mw-dFZnjcesx",
        "colab_type": "code",
        "colab": {
          "base_uri": "https://localhost:8080/",
          "height": 35
        },
        "outputId": "9ed70e4c-6f0a-4f6d-cd22-e117248c09b1"
      },
      "source": [
        "predictions = model.predict(images_val,verbose=1,batch_size=64)\n",
        "y_pred = predictions.argmax(-1)\n",
        "y_true = val_labels.argmax(-1)"
      ],
      "execution_count": 41,
      "outputs": [
        {
          "output_type": "stream",
          "text": [
            "3333/3333 [==============================] - 1s 230us/step\n"
          ],
          "name": "stdout"
        }
      ]
    },
    {
      "cell_type": "code",
      "metadata": {
        "id": "Iwt8oHhUcnUQ",
        "colab_type": "code",
        "colab": {}
      },
      "source": [
        "cm = confusion_matrix(y_true,y_pred)"
      ],
      "execution_count": 42,
      "outputs": []
    },
    {
      "cell_type": "code",
      "metadata": {
        "id": "s9DAEUATdVko",
        "colab_type": "code",
        "colab": {}
      },
      "source": [
        "class_Acc = (cm.astype('float') / cm.sum(axis=1)[:, np.newaxis]).diagonal()"
      ],
      "execution_count": 43,
      "outputs": []
    },
    {
      "cell_type": "code",
      "metadata": {
        "id": "MiwhZjzhdguF",
        "colab_type": "code",
        "colab": {
          "base_uri": "https://localhost:8080/",
          "height": 272
        },
        "outputId": "34df6416-dea2-47ee-9d4a-5a8ba67ed007"
      },
      "source": [
        "class_Acc"
      ],
      "execution_count": 44,
      "outputs": [
        {
          "output_type": "execute_result",
          "data": {
            "text/plain": [
              "array([0.        , 0.        , 0.07518797, 0.        , 0.01503759,\n",
              "       0.3030303 , 0.02941176, 0.15151515, 0.72727273, 0.07462687,\n",
              "       0.27272727, 0.14705882, 0.15151515, 0.15151515, 0.02941176,\n",
              "       0.27443609, 0.53731343, 0.03030303, 0.06      , 0.13432836,\n",
              "       0.        , 0.67647059, 0.39393939, 0.26865672, 0.39393939,\n",
              "       0.21212121, 0.35820896, 0.03030303, 0.        , 0.09090909,\n",
              "       0.18181818, 0.        , 0.21212121, 0.21212121, 0.32352941,\n",
              "       0.24242424, 0.78787879, 0.05970149, 0.24242424, 0.02941176,\n",
              "       0.27      , 0.37878788, 0.11764706, 0.12121212, 0.21212121,\n",
              "       0.        , 0.03030303, 0.90909091, 0.05882353, 0.        ,\n",
              "       0.06060606, 0.11764706, 0.63636364, 0.29411765, 0.42424242,\n",
              "       0.33333333, 0.        , 0.        , 0.15151515, 0.        ,\n",
              "       0.27272727, 0.08823529, 0.75757576, 0.12121212, 0.41176471,\n",
              "       0.15151515, 0.15151515, 0.23529412, 0.03030303, 0.42424242])"
            ]
          },
          "metadata": {
            "tags": []
          },
          "execution_count": 44
        }
      ]
    },
    {
      "cell_type": "code",
      "metadata": {
        "id": "kFd7sfdHdhvW",
        "colab_type": "code",
        "colab": {}
      },
      "source": [
        ""
      ],
      "execution_count": null,
      "outputs": []
    }
  ]
}